{
 "cells": [
  {
   "cell_type": "markdown",
   "metadata": {},
   "source": [
    "# Python_Lab_3\n"
   ]
  },
  {
   "cell_type": "markdown",
   "metadata": {},
   "source": [
    "### Task 1\n",
    "- Write a function named **'create_student_records'** that takes a list of tuples. Each tuple contains a student's name and their scores in three subjects. The function should return a list of dictionaries, where each dictionary represents a student with keys: name, subject1, subject2, subject3. Use list comprehension to create the list of dictionaries."
   ]
  },
  {
   "cell_type": "code",
   "execution_count": 26,
   "metadata": {},
   "outputs": [
    {
     "name": "stdout",
     "output_type": "stream",
     "text": [
      "[{'Name': 'Abdullah', 'Math': 99, 'Art': 100, 'Biology': 98}, {'Name': 'Ali', 'Math': 88, 'Art': 70, 'Biology': 77}, {'Name': 'Malik', 'Math': 100, 'Art': 99, 'Biology': 99}, {'Name': 'Hassan', 'Math': 100, 'Art': 66, 'Biology': 90}]\n"
     ]
    }
   ],
   "source": [
    "# write your code here ^_^\n",
    "def creat_student_records():\n",
    "    key_list = [\"Name\",\"Math\",\"Art\",\"Biology\"]\n",
    "    student_info = [(\"Abdullah\",99 ,100 ,98 ) ,(\"Ali\",88 , 70,77 ),(\"Malik\",100 ,99 ,99 ),(\"Hassan\", 100,66 , 90) ]\n",
    "    student_represnt_list =  [dict(zip(key_list,student)) for student in student_info ]\n",
    "    return student_represnt_list\n",
    "\n",
    "student_reccord = creat_student_records()  \n",
    "print(student_reccord)\n",
    "  "
   ]
  },
  {
   "cell_type": "markdown",
   "metadata": {},
   "source": [
    "### Task 2\n",
    "- Write a function named **'filter_and_sort_students'** that takes the list of dictionaries from Question 1 and returns a sorted list of student names who have an average score of 80 or more across all subjects. Sort the names in alphabetical order."
   ]
  },
  {
   "cell_type": "code",
   "execution_count": 39,
   "metadata": {},
   "outputs": [
    {
     "name": "stdout",
     "output_type": "stream",
     "text": [
      "['Abdullah', 'Hassan', 'Malik']\n"
     ]
    }
   ],
   "source": [
    "# write your code here ^_^\n",
    "def filter_and_sort_students(student_reccord):\n",
    "    filter_student = [student [\"Name\"] for student in student_reccord if (student['Math'] + student['Art'] + student['Biology']) / 3 >= 80]\n",
    "    filter_student.sort()\n",
    "    return filter_student\n",
    "     \n",
    "\n",
    "sorted_student = filter_and_sort_students(student_reccord)\n",
    "\n",
    "print(sorted_student)\n"
   ]
  },
  {
   "cell_type": "markdown",
   "metadata": {},
   "source": [
    "### Task 3\n",
    "- Write a function named **'get_product_info'** that prompts the user to enter information about a product. The function should ask for the product name, product price, and product quantity. If the user enters an invalid input (e.g., a non-numeric value for the price or quantity), the function should handle the error and prompt the user to enter the value again. Return a dictionary containing the product information."
   ]
  },
  {
   "cell_type": "code",
   "execution_count": 133,
   "metadata": {},
   "outputs": [
    {
     "name": "stdout",
     "output_type": "stream",
     "text": [
      "Enter the pruduct Information\n"
     ]
    },
    {
     "name": "stdin",
     "output_type": "stream",
     "text": [
      "Enter pruduct name :  \n"
     ]
    },
    {
     "name": "stdout",
     "output_type": "stream",
     "text": [
      "Please try again.\n"
     ]
    },
    {
     "name": "stdin",
     "output_type": "stream",
     "text": [
      "Enter pruduct name :  ice\n",
      "Enter product price :  k9\n"
     ]
    },
    {
     "name": "stdout",
     "output_type": "stream",
     "text": [
      " Please enter crrect price\n"
     ]
    },
    {
     "name": "stdin",
     "output_type": "stream",
     "text": [
      "Enter pruduct name :  ice\n",
      "Enter product price :  2.5\n",
      "Enter product quantity :  90\n"
     ]
    },
    {
     "name": "stdout",
     "output_type": "stream",
     "text": [
      "{' Name ': 'ice', 'Price': 2.5, 'Quantity': 90}\n"
     ]
    }
   ],
   "source": [
    "# write your code here ^_^\n",
    "def get_product_info():\n",
    "    print (\"Enter the pruduct Information\")\n",
    "    while True :\n",
    "        try :\n",
    "            pro_name =  input (\"Enter pruduct name : \")\n",
    "            if not pro_name :\n",
    "                raise ValueError(\"Please Enter the name \")\n",
    "            try:\n",
    "                pro_price = float(input(\"Enter product price : \"))\n",
    "                if pro_price < 0:\n",
    "                    raise ValueError(\"Please enter crrect price\")\n",
    "            except ValueError:\n",
    "                print(\" Please enter crrect price\")\n",
    "                continue\n",
    "            try:\n",
    "                pro_quantity = int(input(\"Enter product quantity : \"))\n",
    "                if pro_quantity < 0:\n",
    "                    raise ValueError(\"Please enter correct quantity\")\n",
    "            except ValueError:\n",
    "                print(\" Please enter correct quantity\")\n",
    "                continue\n",
    "            product = {\" Name \" : pro_name, \"Price\" : pro_price , \"Quantity\" :pro_quantity  }\n",
    "            return product\n",
    "\n",
    "        except ValueError as e: \n",
    "            print(\"Please try again.\")\n",
    "            \n",
    "display_product = get_product_info()\n",
    "print(display_product)\n",
    "\n",
    "               \n",
    "            \n",
    "    \n",
    "    "
   ]
  },
  {
   "cell_type": "markdown",
   "metadata": {},
   "source": [
    "### Task 4\n",
    "- Write a function named **'get_even_numbers'** that takes a list of integers and returns a list of even numbers using list comprehension."
   ]
  },
  {
   "cell_type": "code",
   "execution_count": 131,
   "metadata": {},
   "outputs": [
    {
     "name": "stdout",
     "output_type": "stream",
     "text": [
      "random list\n",
      "[16, 12, 23, 33, 30, 24, 12, 39, 5, 46, 2, 23, 13, 46, 30]\n",
      "Even list\n",
      "[16, 12, 30, 24, 12, 46, 2, 46, 30]\n"
     ]
    }
   ],
   "source": [
    "# write your code here ^_^\n",
    "import random\n",
    "\n",
    "random_list = [random.randint(0, 50) for _ in range(15)]\n",
    "print(\"random list\")\n",
    "print(random_list)\n",
    "\n",
    "def get_even_numbers(rand_list):\n",
    "    even_list = [num for num in rand_list if num%2==0]\n",
    "    return even_list\n",
    "\n",
    "even_list_print = get_even_numbers(random_list)\n",
    "print(\"Even list\")\n",
    "print (even_list_print)"
   ]
  },
  {
   "cell_type": "markdown",
   "metadata": {},
   "source": [
    "### Task 5\n",
    "- Write a function named **'pair_elements'** that takes two lists of equal length as parameters and returns a list of tuples, where each tuple contains corresponding elements from the two lists. Use the zip function to achieve this."
   ]
  },
  {
   "cell_type": "markdown",
   "metadata": {},
   "source": []
  },
  {
   "cell_type": "code",
   "execution_count": 125,
   "metadata": {},
   "outputs": [
    {
     "name": "stdout",
     "output_type": "stream",
     "text": [
      "list 1\n",
      "[43, 26, 42, 37, 12, 25, 22, 4, 14, 49, 16, 49, 40, 14, 12]\n",
      "list 2\n",
      "[29, 47, 17, 40, 17, 1, 22, 0, 48, 4, 30, 48, 17, 23, 11]\n",
      "combined list\n",
      "[(43, 29), (26, 47), (42, 17), (37, 40), (12, 17), (25, 1), (22, 22), (4, 0), (14, 48), (49, 4), (16, 30), (49, 48), (40, 17), (14, 23), (12, 11)]\n"
     ]
    }
   ],
   "source": [
    "# write your code here ^_^\n",
    "list1_rand =  [random.randint(0, 50) for _ in range(15)]\n",
    "list2_rand =  [random.randint(0, 50) for _ in range(15)]\n",
    "print(\"list 1\")\n",
    "print(list1_rand)\n",
    "print(\"list 2\")\n",
    "print(list2_rand)\n",
    "\n",
    "def pair_elements(list1 , list2):\n",
    "    combined_list =  [(num1,num2 )for num1,num2 in (zip(list1, list2))]\n",
    "    return combined_list\n",
    "\n",
    "combined_list = pair_elements(list1_rand , list2_rand)\n",
    "print(\"combined list\")\n",
    "print(combined_list)\n",
    "    "
   ]
  },
  {
   "cell_type": "markdown",
   "metadata": {},
   "source": [
    "### Task 6\n",
    "- Write a function named **'square_dict_lambda'** that takes a list of integers and returns a dictionary where the keys are the integers and the values are their squares. Use a lambda function within a dictionary comprehension to achieve this."
   ]
  },
  {
   "cell_type": "code",
   "execution_count": 123,
   "metadata": {},
   "outputs": [
    {
     "name": "stdout",
     "output_type": "stream",
     "text": [
      "Random list \n",
      "[24, 6, 29, 43, 7, 32, 23, 31, 30, 10, 7, 26, 46, 50, 37]\n",
      "squared dictionary\n",
      "{24: 576, 6: 36, 29: 841, 43: 1849, 7: 49, 32: 1024, 23: 529, 31: 961, 30: 900, 10: 100, 26: 676, 46: 2116, 50: 2500, 37: 1369}\n"
     ]
    }
   ],
   "source": [
    "# write your code here ^_^\n",
    "list1_random =  [random.randint(0, 50) for _ in range(15)]\n",
    "print (\"Random list \")\n",
    "print(list1_random)\n",
    "def square_dict_lambda(rand_list):\n",
    "    square_dict = {num : ( lambda x : x**2) (num) for num in rand_list}\n",
    "    return square_dict\n",
    "\n",
    "square_dict = square_dict_lambda(list1_random)\n",
    "print(\"squared dictionary\")\n",
    "print(square_dict)"
   ]
  },
  {
   "cell_type": "code",
   "execution_count": null,
   "metadata": {},
   "outputs": [],
   "source": []
  }
 ],
 "metadata": {
  "kernelspec": {
   "display_name": "Python 3 (ipykernel)",
   "language": "python",
   "name": "python3"
  },
  "language_info": {
   "codemirror_mode": {
    "name": "ipython",
    "version": 3
   },
   "file_extension": ".py",
   "mimetype": "text/x-python",
   "name": "python",
   "nbconvert_exporter": "python",
   "pygments_lexer": "ipython3",
   "version": "3.12.4"
  }
 },
 "nbformat": 4,
 "nbformat_minor": 4
}
